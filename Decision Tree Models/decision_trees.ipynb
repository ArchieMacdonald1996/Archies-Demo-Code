{
 "cells": [
  {
   "cell_type": "code",
   "execution_count": 1,
   "id": "0c7b56c0",
   "metadata": {},
   "outputs": [],
   "source": [
    "# Packages\n",
    "import pandas as pd\n",
    "from sklearn.model_selection import train_test_split\n",
    "from sklearn.metrics import accuracy_score\n",
    "\n",
    "# Classifiers\n",
    "from sklearn.tree import DecisionTreeClassifier\n",
    "from sklearn.ensemble import BaggingClassifier\n",
    "from sklearn.ensemble import RandomForestClassifier\n",
    "from sklearn.ensemble import AdaBoostClassifier\n",
    "\n",
    "# Plotting\n",
    "import matplotlib.pyplot as plt\n",
    "%matplotlib inline\n",
    "\n",
    "# Import Data\n",
    "data = pd.read_csv(\"titanic.csv\")"
   ]
  },
  {
   "cell_type": "markdown",
   "id": "a4cea4c5",
   "metadata": {},
   "source": [
    "## Cleaning Data"
   ]
  },
  {
   "cell_type": "code",
   "execution_count": 2,
   "id": "6b620a80",
   "metadata": {},
   "outputs": [],
   "source": [
    "# Drop Irrelevant Fields\n",
    "data.drop([\"PassengerId\", \"Name\", \"SibSp\", \"Parch\", \"Ticket\", \"Cabin\"], axis=1, inplace=True)"
   ]
  },
  {
   "cell_type": "code",
   "execution_count": 3,
   "id": "7a6999a9",
   "metadata": {},
   "outputs": [
    {
     "name": "stdout",
     "output_type": "stream",
     "text": [
      "Survived\n",
      "False    891\n",
      "Name: Survived, dtype: int64\n",
      "Pclass\n",
      "False    891\n",
      "Name: Pclass, dtype: int64\n",
      "Sex\n",
      "False    891\n",
      "Name: Sex, dtype: int64\n",
      "Age\n",
      "False    714\n",
      "True     177\n",
      "Name: Age, dtype: int64\n",
      "Fare\n",
      "False    891\n",
      "Name: Fare, dtype: int64\n",
      "Embarked\n",
      "False    889\n",
      "True       2\n",
      "Name: Embarked, dtype: int64\n"
     ]
    }
   ],
   "source": [
    "# Check Null Values\n",
    "for column in data:\n",
    "    print(str(column))\n",
    "    print(data[column].isnull().value_counts())"
   ]
  },
  {
   "cell_type": "code",
   "execution_count": 4,
   "id": "70a790a4",
   "metadata": {},
   "outputs": [],
   "source": [
    "# Remove Null Values\n",
    "data = data[data[\"Age\"].isnull() != True]\n",
    "data = data[data[\"Embarked\"].isnull() != True]"
   ]
  },
  {
   "cell_type": "code",
   "execution_count": 5,
   "id": "b7c6e524",
   "metadata": {},
   "outputs": [],
   "source": [
    "# Encode Sex and Embarked\n",
    "data.loc[data[\"Embarked\"] == \"S\", \"Embarked\"] = 0\n",
    "data.loc[data[\"Embarked\"] == \"C\", \"Embarked\"] = 1\n",
    "data.loc[data[\"Embarked\"] == \"Q\", \"Embarked\"] = 2\n",
    "\n",
    "data.loc[data[\"Sex\"] == \"male\", \"Sex\"] = 0\n",
    "data.loc[data[\"Sex\"] == \"female\", \"Sex\"] = 1"
   ]
  },
  {
   "cell_type": "code",
   "execution_count": 6,
   "id": "9bade8e0",
   "metadata": {},
   "outputs": [
    {
     "data": {
      "text/html": [
       "<div>\n",
       "<style scoped>\n",
       "    .dataframe tbody tr th:only-of-type {\n",
       "        vertical-align: middle;\n",
       "    }\n",
       "\n",
       "    .dataframe tbody tr th {\n",
       "        vertical-align: top;\n",
       "    }\n",
       "\n",
       "    .dataframe thead th {\n",
       "        text-align: right;\n",
       "    }\n",
       "</style>\n",
       "<table border=\"1\" class=\"dataframe\">\n",
       "  <thead>\n",
       "    <tr style=\"text-align: right;\">\n",
       "      <th></th>\n",
       "      <th>Survived</th>\n",
       "      <th>Pclass</th>\n",
       "      <th>Sex</th>\n",
       "      <th>Age</th>\n",
       "      <th>Fare</th>\n",
       "      <th>Embarked</th>\n",
       "    </tr>\n",
       "  </thead>\n",
       "  <tbody>\n",
       "    <tr>\n",
       "      <th>0</th>\n",
       "      <td>0</td>\n",
       "      <td>3</td>\n",
       "      <td>0</td>\n",
       "      <td>22.0</td>\n",
       "      <td>7.2500</td>\n",
       "      <td>0</td>\n",
       "    </tr>\n",
       "    <tr>\n",
       "      <th>1</th>\n",
       "      <td>1</td>\n",
       "      <td>1</td>\n",
       "      <td>1</td>\n",
       "      <td>38.0</td>\n",
       "      <td>71.2833</td>\n",
       "      <td>1</td>\n",
       "    </tr>\n",
       "    <tr>\n",
       "      <th>2</th>\n",
       "      <td>1</td>\n",
       "      <td>3</td>\n",
       "      <td>1</td>\n",
       "      <td>26.0</td>\n",
       "      <td>7.9250</td>\n",
       "      <td>0</td>\n",
       "    </tr>\n",
       "    <tr>\n",
       "      <th>3</th>\n",
       "      <td>1</td>\n",
       "      <td>1</td>\n",
       "      <td>1</td>\n",
       "      <td>35.0</td>\n",
       "      <td>53.1000</td>\n",
       "      <td>0</td>\n",
       "    </tr>\n",
       "    <tr>\n",
       "      <th>4</th>\n",
       "      <td>0</td>\n",
       "      <td>3</td>\n",
       "      <td>0</td>\n",
       "      <td>35.0</td>\n",
       "      <td>8.0500</td>\n",
       "      <td>0</td>\n",
       "    </tr>\n",
       "  </tbody>\n",
       "</table>\n",
       "</div>"
      ],
      "text/plain": [
       "   Survived  Pclass Sex   Age     Fare Embarked\n",
       "0         0       3   0  22.0   7.2500        0\n",
       "1         1       1   1  38.0  71.2833        1\n",
       "2         1       3   1  26.0   7.9250        0\n",
       "3         1       1   1  35.0  53.1000        0\n",
       "4         0       3   0  35.0   8.0500        0"
      ]
     },
     "execution_count": 6,
     "metadata": {},
     "output_type": "execute_result"
    }
   ],
   "source": [
    "data.head()"
   ]
  },
  {
   "cell_type": "markdown",
   "id": "b30c09f2",
   "metadata": {},
   "source": [
    "## Create Training and Test Data Sets"
   ]
  },
  {
   "cell_type": "code",
   "execution_count": 7,
   "id": "124f134e",
   "metadata": {},
   "outputs": [],
   "source": [
    "X = data.iloc[:,1:].values.reshape(-1,5)\n",
    "y = data.iloc[:,0].values\n",
    "\n",
    "r = 3\n",
    "X_train,X_test,y_train,y_test = train_test_split(X,y,train_size=0.2,random_state=r)\n",
    "X_train,X_dev,y_train,y_dev = train_test_split(X_train,y_train,train_size=0.3,random_state=r)"
   ]
  },
  {
   "cell_type": "markdown",
   "id": "cdf8defa",
   "metadata": {},
   "source": [
    "## Fitting and Accuracy Testing Models"
   ]
  },
  {
   "cell_type": "code",
   "execution_count": 8,
   "id": "d848290f",
   "metadata": {},
   "outputs": [
    {
     "name": "stdout",
     "output_type": "stream",
     "text": [
      "The accuracy for the basic tree is: 0.6280701754385964\n"
     ]
    }
   ],
   "source": [
    "# Base Tree\n",
    "tree_model = DecisionTreeClassifier(max_depth=None, random_state=r)\n",
    "tree_model.fit(X_train,y_train)\n",
    "tree_pred = tree_model.predict(X_test)\n",
    "tree_acc = accuracy_score(y_test, tree_pred)\n",
    "print(f\"The accuracy for the basic tree is: {tree_acc}\")"
   ]
  },
  {
   "cell_type": "code",
   "execution_count": 9,
   "id": "1b1ed1a2",
   "metadata": {},
   "outputs": [
    {
     "name": "stdout",
     "output_type": "stream",
     "text": [
      "The accuracy for the bagged model is: 0.6947368421052632\n"
     ]
    }
   ],
   "source": [
    "# Bagged Model\n",
    "bag_model = BaggingClassifier(base_estimator=tree_model,n_estimators=100,random_state=r)\n",
    "bag_model.fit(X_train,y_train)\n",
    "bag_pred = bag_model.predict(X_test)\n",
    "bag_acc = accuracy_score(y_test,bag_pred)\n",
    "print(f\"The accuracy for the bagged model is: {bag_acc}\")"
   ]
  },
  {
   "cell_type": "code",
   "execution_count": 10,
   "id": "139aa01f",
   "metadata": {},
   "outputs": [
    {
     "name": "stdout",
     "output_type": "stream",
     "text": [
      "The accuracy for the random forest model is: 0.7087719298245614\n"
     ]
    }
   ],
   "source": [
    "# Random Forest Model\n",
    "rand_model = RandomForestClassifier(random_state=r)\n",
    "rand_model.fit(X_train,y_train)\n",
    "rand_pred = rand_model.predict(X_test)\n",
    "rand_acc = accuracy_score(y_test,rand_pred)\n",
    "print(f\"The accuracy for the random forest model is: {rand_acc}\")"
   ]
  },
  {
   "cell_type": "code",
   "execution_count": 11,
   "id": "34caa123",
   "metadata": {},
   "outputs": [
    {
     "name": "stdout",
     "output_type": "stream",
     "text": [
      "The accuracy for the boosted model is: 0.5912280701754385\n"
     ]
    }
   ],
   "source": [
    "# Boosted Model\n",
    "bst_model = AdaBoostClassifier(base_estimator=tree_model,n_estimators=100,random_state=r)\n",
    "bst_model.fit(X_train,y_train)\n",
    "bst_pred = bst_model.predict(X_test)\n",
    "bst_acc = accuracy_score(y_test,bst_pred)\n",
    "print(f\"The accuracy for the boosted model is: {bst_acc}\")"
   ]
  },
  {
   "cell_type": "markdown",
   "id": "67e67686",
   "metadata": {},
   "source": [
    "## Assessing Forest Model"
   ]
  },
  {
   "cell_type": "code",
   "execution_count": 12,
   "id": "66f78dcd",
   "metadata": {},
   "outputs": [
    {
     "name": "stdout",
     "output_type": "stream",
     "text": [
      "3    0.352627\n",
      "2    0.335902\n",
      "0    0.156835\n",
      "1    0.093923\n",
      "4    0.060713\n",
      "dtype: float64\n"
     ]
    }
   ],
   "source": [
    "# Forest Features\n",
    "forest_features = pd.Series(rand_model.feature_importances_).sort_values(ascending=False)\n",
    "print(forest_features)"
   ]
  },
  {
   "cell_type": "markdown",
   "id": "66b39693",
   "metadata": {},
   "source": [
    "According the the above feature importance scores, the most important feature in determining passenger survival is feature 3, which (assuming these refer to the respective fields) is \"Fare\"."
   ]
  },
  {
   "cell_type": "markdown",
   "id": "9a62d68e",
   "metadata": {},
   "source": [
    "## Developing Boosted Model\n"
   ]
  },
  {
   "cell_type": "code",
   "execution_count": 13,
   "id": "f26cf2df",
   "metadata": {},
   "outputs": [
    {
     "data": {
      "text/plain": [
       "[<matplotlib.lines.Line2D at 0x7fe448fcf610>]"
      ]
     },
     "execution_count": 13,
     "metadata": {},
     "output_type": "execute_result"
    },
    {
     "data": {
      "image/png": "[encoded data removed]",
      "text/plain": [
       "<Figure size 640x480 with 1 Axes>"
      ]
     },
     "metadata": {},
     "output_type": "display_data"
    }
   ],
   "source": [
    "# Tune Max_Depth\n",
    "depths = list(range(1,10))\n",
    "scores = []\n",
    "for depth in depths:\n",
    "    test_model = DecisionTreeClassifier(max_depth=depth, random_state=r)\n",
    "    test_model.fit(X_train,y_train)\n",
    "    test_pred = test_model.predict(X_dev)\n",
    "    test_acc = accuracy_score(y_dev,test_pred)\n",
    "    scores.append(test_acc)\n",
    "\n",
    "plt.plot(depths,scores)"
   ]
  },
  {
   "cell_type": "markdown",
   "id": "ed888e7f",
   "metadata": {},
   "source": [
    "As can be seen, the accuracy peaks significantly at a depth of three, so this will become our depth"
   ]
  },
  {
   "cell_type": "code",
   "execution_count": 14,
   "id": "2d6dfe5c",
   "metadata": {},
   "outputs": [
    {
     "data": {
      "text/html": [
       "<style>#sk-container-id-1 {color: black;background-color: white;}#sk-container-id-1 pre{padding: 0;}#sk-container-id-1 div.sk-toggleable {background-color: white;}#sk-container-id-1 label.sk-toggleable__label {cursor: pointer;display: block;width: 100%;margin-bottom: 0;padding: 0.3em;box-sizing: border-box;text-align: center;}#sk-container-id-1 label.sk-toggleable__label-arrow:before {content: \"▸\";float: left;margin-right: 0.25em;color: #696969;}#sk-container-id-1 label.sk-toggleable__label-arrow:hover:before {color: black;}#sk-container-id-1 div.sk-estimator:hover label.sk-toggleable__label-arrow:before {color: black;}#sk-container-id-1 div.sk-toggleable__content {max-height: 0;max-width: 0;overflow: hidden;text-align: left;background-color: #f0f8ff;}#sk-container-id-1 div.sk-toggleable__content pre {margin: 0.2em;color: black;border-radius: 0.25em;background-color: #f0f8ff;}#sk-container-id-1 input.sk-toggleable__control:checked~div.sk-toggleable__content {max-height: 200px;max-width: 100%;overflow: auto;}#sk-container-id-1 input.sk-toggleable__control:checked~label.sk-toggleable__label-arrow:before {content: \"▾\";}#sk-container-id-1 div.sk-estimator input.sk-toggleable__control:checked~label.sk-toggleable__label {background-color: #d4ebff;}#sk-container-id-1 div.sk-label input.sk-toggleable__control:checked~label.sk-toggleable__label {background-color: #d4ebff;}#sk-container-id-1 input.sk-hidden--visually {border: 0;clip: rect(1px 1px 1px 1px);clip: rect(1px, 1px, 1px, 1px);height: 1px;margin: -1px;overflow: hidden;padding: 0;position: absolute;width: 1px;}#sk-container-id-1 div.sk-estimator {font-family: monospace;background-color: #f0f8ff;border: 1px dotted black;border-radius: 0.25em;box-sizing: border-box;margin-bottom: 0.5em;}#sk-container-id-1 div.sk-estimator:hover {background-color: #d4ebff;}#sk-container-id-1 div.sk-parallel-item::after {content: \"\";width: 100%;border-bottom: 1px solid gray;flex-grow: 1;}#sk-container-id-1 div.sk-label:hover label.sk-toggleable__label {background-color: #d4ebff;}#sk-container-id-1 div.sk-serial::before {content: \"\";position: absolute;border-left: 1px solid gray;box-sizing: border-box;top: 0;bottom: 0;left: 50%;z-index: 0;}#sk-container-id-1 div.sk-serial {display: flex;flex-direction: column;align-items: center;background-color: white;padding-right: 0.2em;padding-left: 0.2em;position: relative;}#sk-container-id-1 div.sk-item {position: relative;z-index: 1;}#sk-container-id-1 div.sk-parallel {display: flex;align-items: stretch;justify-content: center;background-color: white;position: relative;}#sk-container-id-1 div.sk-item::before, #sk-container-id-1 div.sk-parallel-item::before {content: \"\";position: absolute;border-left: 1px solid gray;box-sizing: border-box;top: 0;bottom: 0;left: 50%;z-index: -1;}#sk-container-id-1 div.sk-parallel-item {display: flex;flex-direction: column;z-index: 1;position: relative;background-color: white;}#sk-container-id-1 div.sk-parallel-item:first-child::after {align-self: flex-end;width: 50%;}#sk-container-id-1 div.sk-parallel-item:last-child::after {align-self: flex-start;width: 50%;}#sk-container-id-1 div.sk-parallel-item:only-child::after {width: 0;}#sk-container-id-1 div.sk-dashed-wrapped {border: 1px dashed gray;margin: 0 0.4em 0.5em 0.4em;box-sizing: border-box;padding-bottom: 0.4em;background-color: white;}#sk-container-id-1 div.sk-label label {font-family: monospace;font-weight: bold;display: inline-block;line-height: 1.2em;}#sk-container-id-1 div.sk-label-container {text-align: center;}#sk-container-id-1 div.sk-container {/* jupyter's `normalize.less` sets `[hidden] { display: none; }` but bootstrap.min.css set `[hidden] { display: none !important; }` so we also need the `!important` here to be able to override the default hidden behavior on the sphinx rendered scikit-learn.org. See: https://github.com/scikit-learn/scikit-learn/issues/21755 */display: inline-block !important;position: relative;}#sk-container-id-1 div.sk-text-repr-fallback {display: none;}</style><div id=\"sk-container-id-1\" class=\"sk-top-container\"><div class=\"sk-text-repr-fallback\"><pre>DecisionTreeClassifier(max_depth=3, random_state=3)</pre><b>In a Jupyter environment, please rerun this cell to show the HTML representation or trust the notebook. <br />On GitHub, the HTML representation is unable to render, please try loading this page with nbviewer.org.</b></div><div class=\"sk-container\" hidden><div class=\"sk-item\"><div class=\"sk-estimator sk-toggleable\"><input class=\"sk-toggleable__control sk-hidden--visually\" id=\"sk-estimator-id-1\" type=\"checkbox\" checked><label for=\"sk-estimator-id-1\" class=\"sk-toggleable__label sk-toggleable__label-arrow\">DecisionTreeClassifier</label><div class=\"sk-toggleable__content\"><pre>DecisionTreeClassifier(max_depth=3, random_state=3)</pre></div></div></div></div></div>"
      ],
      "text/plain": [
       "DecisionTreeClassifier(max_depth=3, random_state=3)"
      ]
     },
     "execution_count": 14,
     "metadata": {},
     "output_type": "execute_result"
    }
   ],
   "source": [
    "# Fit to tailored Depth\n",
    "tailored_model = DecisionTreeClassifier(max_depth=3, random_state=r)\n",
    "tailored_model.fit(X_train,y_train)"
   ]
  },
  {
   "cell_type": "code",
   "execution_count": 15,
   "id": "50b44d46",
   "metadata": {},
   "outputs": [
    {
     "data": {
      "text/plain": [
       "[<matplotlib.lines.Line2D at 0x7fe446d20520>]"
      ]
     },
     "execution_count": 15,
     "metadata": {},
     "output_type": "execute_result"
    },
    {
     "data": {
      "image/png": "[encoded data removed]",
      "text/plain": [
       "<Figure size 640x480 with 1 Axes>"
      ]
     },
     "metadata": {},
     "output_type": "display_data"
    }
   ],
   "source": [
    "# Tune Estimator Numbers\n",
    "estimators = list(range(10,101,10))\n",
    "est_scores = []\n",
    "\n",
    "for est in estimators:\n",
    "    test_model = AdaBoostClassifier(base_estimator=tailored_model,n_estimators=est,random_state=r)\n",
    "    test_model.fit(X_train,y_train)\n",
    "    test_pred = test_model.predict(X_dev)\n",
    "    test_acc = accuracy_score(y_dev,test_pred)\n",
    "    est_scores.append(test_acc)\n",
    "\n",
    "plt.plot(estimators,est_scores)"
   ]
  },
  {
   "cell_type": "markdown",
   "id": "2ca2ac43",
   "metadata": {},
   "source": [
    "The model seems to peak in accuracy around 30 estimators, so I will set this as the model default."
   ]
  },
  {
   "cell_type": "code",
   "execution_count": 16,
   "id": "5d16863d",
   "metadata": {},
   "outputs": [
    {
     "name": "stdout",
     "output_type": "stream",
     "text": [
      "The accuracy score for the final model is: 0.7\n"
     ]
    }
   ],
   "source": [
    "# Final Boosted Model + Accuracy Test\n",
    "final_model = AdaBoostClassifier(base_estimator=tailored_model,n_estimators=30,random_state=r)\n",
    "final_model.fit(X_train,y_train)\n",
    "final_pred = final_model.predict(X_test)\n",
    "final_acc = accuracy_score(y_test,final_pred)\n",
    "\n",
    "print(f\"The accuracy score for the final model is: {final_acc}\")"
   ]
  },
  {
   "cell_type": "markdown",
   "id": "96b37744",
   "metadata": {},
   "source": [
    "## Accuracy Scores and Observations"
   ]
  },
  {
   "cell_type": "code",
   "execution_count": 17,
   "id": "e93fbec1",
   "metadata": {},
   "outputs": [
    {
     "name": "stdout",
     "output_type": "stream",
     "text": [
      "Scores for models:\n",
      "Basic Tree: 0.6280701754385964\n",
      "Bagged: 0.6947368421052632\n",
      "Random Forest: 0.7087719298245614\n",
      "Boosted (Untuned): 0.5912280701754385\n",
      "Boosted (Tuned): 0.7\n"
     ]
    }
   ],
   "source": [
    "# Prints Accuracy Scores for all models\n",
    "\n",
    "print(f\"\"\"Scores for models:\n",
    "Basic Tree: {tree_acc}\n",
    "Bagged: {bag_acc}\n",
    "Random Forest: {rand_acc}\n",
    "Boosted (Untuned): {bst_acc}\n",
    "Boosted (Tuned): {final_acc}\"\"\")"
   ]
  },
  {
   "cell_type": "markdown",
   "id": "41cbb172",
   "metadata": {},
   "source": [
    "Higest Accuracy: Random Forest Model\n",
    "\n",
    "Tunings for Boosted (Tuned): Max Depth =  3, Estimators = 30\n",
    "\n",
    "#### Observations:\n",
    "There are three main observations to be made here:\n",
    "\n",
    "- The untuned boosted model is actually less accurate than the basic tree, making it the least accurate model overall.\n",
    "- The tuned version of the boosted model is far more accurate than the original, being the second most accurate model compared to the originals bottom performance. The overall accuracy score was improved by over 10%!\n",
    "- The accuracy scores seem to be grouped into two groups, the untuned boosted and basic tree being around 60% accurate, and the rest all hovering around 70%."
   ]
  },
  {
   "cell_type": "code",
   "execution_count": null,
   "id": "9e943b05",
   "metadata": {},
   "outputs": [],
   "source": []
  }
 ],
 "metadata": {
  "kernelspec": {
   "display_name": "Python 3 (ipykernel)",
   "language": "python",
   "name": "python3"
  },
  "language_info": {
   "codemirror_mode": {
    "name": "ipython",
    "version": 3
   },
   "file_extension": ".py",
   "mimetype": "text/x-python",
   "name": "python",
   "nbconvert_exporter": "python",
   "pygments_lexer": "ipython3",
   "version": "3.10.8"
  }
 },
 "nbformat": 4,
 "nbformat_minor": 5
}
